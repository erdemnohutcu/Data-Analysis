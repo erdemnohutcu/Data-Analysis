{
 "cells": [
  {
   "cell_type": "code",
   "execution_count": 11,
   "metadata": {},
   "outputs": [
    {
     "data": {
      "text/plain": [
       "0                         Daha onxe denemedim;;\n",
       "1                        yatırım aracı seçmek;;\n",
       "2    Kararsızlık ve teknik bilgi yetersizliği;;\n",
       "3                                   Zamanlama;;\n",
       "4      Daha onxe denemedim ogrnemek istiyorum;;\n",
       "Name: Content;;, dtype: object"
      ]
     },
     "execution_count": 11,
     "metadata": {},
     "output_type": "execute_result"
    }
   ],
   "source": [
    "import numpy as np\n",
    "import pandas as pd\n",
    "import warnings\n",
    "warnings.filterwarnings('ignore')\n",
    "\n",
    "x = pd.read_csv('emtia.csv', delimiter ='##', encoding='utf-8')  \n",
    "\n",
    "y= x['Content;;']\n",
    "\n",
    "y.head()"
   ]
  },
  {
   "cell_type": "raw",
   "metadata": {},
   "source": [
    "##Emtia En Cok kullanılan 20 kelime analizi"
   ]
  },
  {
   "cell_type": "code",
   "execution_count": 16,
   "metadata": {},
   "outputs": [
    {
     "data": {
      "text/plain": [
       "[('ve', 8),\n",
       " ('Daha', 5),\n",
       " ('onxe', 4),\n",
       " ('sat', 4),\n",
       " ('çok', 4),\n",
       " ('teknik', 3),\n",
       " ('yeni', 3),\n",
       " ('zaman', 3),\n",
       " ('ne', 3),\n",
       " ('alım', 3),\n",
       " ('sonra', 3),\n",
       " ('İndikatör', 3),\n",
       " ('fazla', 3),\n",
       " ('geç', 3),\n",
       " ('indikatör', 3),\n",
       " ('sinyal', 3),\n",
       " ('vermesi;;', 3),\n",
       " ('daha', 3),\n",
       " ('denemedim;;', 2),\n",
       " ('istiyorum;;', 2)]"
      ]
     },
     "execution_count": 16,
     "metadata": {},
     "output_type": "execute_result"
    }
   ],
   "source": [
    "from collections import Counter\n",
    "Counter(\" \".join(x['Content;;']).split()).most_common(20)"
   ]
  },
  {
   "cell_type": "code",
   "execution_count": null,
   "metadata": {},
   "outputs": [],
   "source": [
    "##Burdan genel bir çıkarım yapmak gerekirse emtia ile ilgilenenler alım yerlerini bulamıyorlar ve deneyimleri az."
   ]
  },
  {
   "cell_type": "code",
   "execution_count": 20,
   "metadata": {},
   "outputs": [
    {
     "data": {
      "text/plain": [
       "0                                               teknik\n",
       "1                           İşleme giriş çıkış noktası\n",
       "2    Cok fazla indikatorun olmasi ve hepsinin ne iş...\n",
       "3                                          belirsizlik\n",
       "4                                         yanlış işlem\n",
       "Name: Content, dtype: object"
      ]
     },
     "execution_count": 20,
     "metadata": {},
     "output_type": "execute_result"
    }
   ],
   "source": [
    "x = pd.read_csv('forex.csv', delimiter ='##', encoding='utf-8')  \n",
    "\n",
    "y= x['Content']\n",
    "\n",
    "y.head()"
   ]
  },
  {
   "cell_type": "code",
   "execution_count": 21,
   "metadata": {},
   "outputs": [
    {
     "data": {
      "text/plain": [
       "[('yanlış', 7),\n",
       " ('ve', 6),\n",
       " ('geç', 6),\n",
       " ('indikatör', 5),\n",
       " ('sinyal', 4),\n",
       " ('fazla', 3),\n",
       " ('ne', 3),\n",
       " ('çok', 3),\n",
       " ('vermesi', 3),\n",
       " ('sonra', 3),\n",
       " ('belirsizlik', 2),\n",
       " ('işlem', 2),\n",
       " ('da', 2),\n",
       " ('olarak', 2),\n",
       " ('sinyaller', 2),\n",
       " ('stop', 2),\n",
       " ('bilgi', 2),\n",
       " ('eksikliği', 2),\n",
       " ('yönünü', 2),\n",
       " ('belirleyememek', 2)]"
      ]
     },
     "execution_count": 21,
     "metadata": {},
     "output_type": "execute_result"
    }
   ],
   "source": [
    "Counter(\" \".join(x['Content']).split()).most_common(20)"
   ]
  },
  {
   "cell_type": "code",
   "execution_count": null,
   "metadata": {},
   "outputs": [],
   "source": [
    "##Forexcilerin genel sorunu indikatör sinyallerinin geç ve yanlış geldiğini düşünüyorlar."
   ]
  },
  {
   "cell_type": "code",
   "execution_count": 25,
   "metadata": {},
   "outputs": [
    {
     "data": {
      "text/plain": [
       "0                    komisyon problemi;;;\n",
       "1    al sat yaparken karar veremiyorum;;;\n",
       "2                       Emir beklemesi;;;\n",
       "3               piyasa belirsizlikleri;;;\n",
       "4                              Düşmesi;;;\n",
       "Name: Content;;;, dtype: object"
      ]
     },
     "execution_count": 25,
     "metadata": {},
     "output_type": "execute_result"
    }
   ],
   "source": [
    "x = pd.read_csv('hisse.csv', delimiter ='##', encoding='utf-8')  \n",
    "x.head()\n",
    "\n",
    "y= x['Content;;;']\n",
    "\n",
    "y.head()"
   ]
  },
  {
   "cell_type": "code",
   "execution_count": 26,
   "metadata": {},
   "outputs": [
    {
     "data": {
      "text/plain": [
       "[('ve', 35),\n",
       " ('al', 23),\n",
       " ('sat', 21),\n",
       " ('çok', 16),\n",
       " ('bir', 16),\n",
       " ('doğru', 15),\n",
       " ('zaman', 14),\n",
       " ('tam', 13),\n",
       " ('yok;;;', 13),\n",
       " ('satım', 12),\n",
       " ('geç', 12),\n",
       " ('indikatör', 12),\n",
       " ('alım', 11),\n",
       " ('bu', 11),\n",
       " ('olması;;;', 10),\n",
       " ('sinyal', 9),\n",
       " ('veya', 9),\n",
       " ('Alım', 8),\n",
       " ('analiz', 8),\n",
       " ('ne', 7)]"
      ]
     },
     "execution_count": 26,
     "metadata": {},
     "output_type": "execute_result"
    }
   ],
   "source": [
    "Counter(\" \".join(x['Content;;;']).split()).most_common(20)"
   ]
  },
  {
   "cell_type": "code",
   "execution_count": null,
   "metadata": {},
   "outputs": [],
   "source": [
    "##Hisse ile uğraşanlar vakit problemi ve doğru zamanı bulmada problem yaşıyor."
   ]
  },
  {
   "cell_type": "code",
   "execution_count": 30,
   "metadata": {},
   "outputs": [
    {
     "data": {
      "text/plain": [
       "0                                Trend yönünün tesbiti\n",
       "1                                    Yatırım tavsiyesi\n",
       "2    Yatırım yaptığım sitede yatırım alan konilerin...\n",
       "3    Trendi belirleyememek,alım fırsatlarını değerl...\n",
       "4                   Hızlı olmak isterken geride kalmak\n",
       "Name: Content, dtype: object"
      ]
     },
     "execution_count": 30,
     "metadata": {},
     "output_type": "execute_result"
    }
   ],
   "source": [
    "x = pd.read_csv('kripto.csv', delimiter ='##', encoding='utf-8')  \n",
    "x.head()\n",
    "\n",
    "y= x['Content']\n",
    "\n",
    "y.head()"
   ]
  },
  {
   "cell_type": "code",
   "execution_count": 31,
   "metadata": {},
   "outputs": [
    {
     "data": {
      "text/plain": [
       "[('ve', 36),\n",
       " ('zaman', 14),\n",
       " ('yok', 13),\n",
       " ('indikatör', 10),\n",
       " ('olması', 9),\n",
       " ('al', 9),\n",
       " ('sat', 9),\n",
       " ('olmaması', 9),\n",
       " ('doğru', 8),\n",
       " ('alıp', 8),\n",
       " ('ne', 8),\n",
       " ('çok', 8),\n",
       " ('bir', 8),\n",
       " ('analiz', 7),\n",
       " ('geç', 7),\n",
       " ('alım', 6),\n",
       " ('için', 6),\n",
       " ('takip', 6),\n",
       " ('nerede', 6),\n",
       " ('Yok', 6)]"
      ]
     },
     "execution_count": 31,
     "metadata": {},
     "output_type": "execute_result"
    }
   ],
   "source": [
    "Counter(\" \".join(x['Content']).split()).most_common(20)"
   ]
  },
  {
   "cell_type": "code",
   "execution_count": null,
   "metadata": {},
   "outputs": [],
   "source": [
    "##Kriptoda kullanıcılarının da zaman problemi yaşadığı gözlemlenebilir. "
   ]
  },
  {
   "cell_type": "code",
   "execution_count": null,
   "metadata": {},
   "outputs": [],
   "source": []
  },
  {
   "cell_type": "code",
   "execution_count": 32,
   "metadata": {},
   "outputs": [],
   "source": [
    "##Dataların hepsini bir arada incelersek"
   ]
  },
  {
   "cell_type": "code",
   "execution_count": 36,
   "metadata": {},
   "outputs": [
    {
     "data": {
      "text/plain": [
       "0                    komisyon problemi;;;\n",
       "1    al sat yaparken karar veremiyorum;;;\n",
       "2                       Emir beklemesi;;;\n",
       "3               piyasa belirsizlikleri;;;\n",
       "4                              Düşmesi;;;\n",
       "Name: Content;;;, dtype: object"
      ]
     },
     "execution_count": 36,
     "metadata": {},
     "output_type": "execute_result"
    }
   ],
   "source": [
    "x = pd.read_csv('all.csv', delimiter ='##', encoding='utf-8')  \n",
    "x.head()\n",
    "\n",
    "y= x['Content;;;']\n",
    "\n",
    "y.head()"
   ]
  },
  {
   "cell_type": "code",
   "execution_count": 38,
   "metadata": {},
   "outputs": [
    {
     "data": {
      "text/plain": [
       "[('ve', 85),\n",
       " ('al', 36),\n",
       " ('sat', 35),\n",
       " ('çok', 31),\n",
       " ('zaman', 30),\n",
       " ('indikatör', 30),\n",
       " ('geç', 28),\n",
       " ('yok;;;', 26),\n",
       " ('bir', 26),\n",
       " ('doğru', 25),\n",
       " ('ne', 21),\n",
       " ('olması;;;', 21),\n",
       " ('alım', 20),\n",
       " ('sinyal', 20),\n",
       " ('tam', 19),\n",
       " ('yanlış', 17),\n",
       " ('bu', 17),\n",
       " ('alıp', 15),\n",
       " ('veya', 15),\n",
       " ('olarak', 15)]"
      ]
     },
     "execution_count": 38,
     "metadata": {},
     "output_type": "execute_result"
    }
   ],
   "source": [
    "Counter(\" \".join(x['Content;;;']).split()).most_common(20)"
   ]
  },
  {
   "cell_type": "code",
   "execution_count": 39,
   "metadata": {},
   "outputs": [],
   "source": [
    "##Genel analize baktığımızda temel sorun insanların zaman problemi yaşaması ve doğru alım yerinin bilinememesi"
   ]
  },
  {
   "cell_type": "code",
   "execution_count": null,
   "metadata": {},
   "outputs": [],
   "source": []
  }
 ],
 "metadata": {
  "kernelspec": {
   "display_name": "Python 3",
   "language": "python",
   "name": "python3"
  },
  "language_info": {
   "codemirror_mode": {
    "name": "ipython",
    "version": 3
   },
   "file_extension": ".py",
   "mimetype": "text/x-python",
   "name": "python",
   "nbconvert_exporter": "python",
   "pygments_lexer": "ipython3",
   "version": "3.7.6"
  }
 },
 "nbformat": 4,
 "nbformat_minor": 4
}
